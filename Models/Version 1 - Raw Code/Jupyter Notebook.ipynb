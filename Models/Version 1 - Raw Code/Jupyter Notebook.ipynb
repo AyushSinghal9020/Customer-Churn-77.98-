{
 "cells": [
  {
   "cell_type": "code",
   "execution_count": 1,
   "id": "995cb10a",
   "metadata": {
    "_cell_guid": "b1076dfc-b9ad-4769-8c92-a6c4dae69d19",
    "_uuid": "8f2839f25d086af736a60e9eeb907d3b93b6e0e5",
    "execution": {
     "iopub.execute_input": "2023-02-07T16:18:21.947064Z",
     "iopub.status.busy": "2023-02-07T16:18:21.946033Z",
     "iopub.status.idle": "2023-02-07T16:18:21.969653Z",
     "shell.execute_reply": "2023-02-07T16:18:21.968418Z"
    },
    "papermill": {
     "duration": 0.03544,
     "end_time": "2023-02-07T16:18:21.972195",
     "exception": false,
     "start_time": "2023-02-07T16:18:21.936755",
     "status": "completed"
    },
    "tags": []
   },
   "outputs": [
    {
     "name": "stdout",
     "output_type": "stream",
     "text": [
      "/kaggle/input/credit-card-customer-churn-prediction/Churn_Modelling.csv\n"
     ]
    }
   ],
   "source": [
    "# This Python 3 environment comes with many helpful analytics libraries installed\n",
    "# It is defined by the kaggle/python Docker image: https://github.com/kaggle/docker-python\n",
    "# For example, here's several helpful packages to load\n",
    "\n",
    "import numpy as np # linear algebra\n",
    "import pandas as pd # data processing, CSV file I/O (e.g. pd.read_csv)\n",
    "\n",
    "# Input data files are available in the read-only \"../input/\" directory\n",
    "# For example, running this (by clicking run or pressing Shift+Enter) will list all files under the input directory\n",
    "\n",
    "import os\n",
    "for dirname, _, filenames in os.walk('/kaggle/input'):\n",
    "    for filename in filenames:\n",
    "        print(os.path.join(dirname, filename))\n",
    "\n",
    "# You can write up to 20GB to the current directory (/kaggle/working/) that gets preserved as output when you create a version using \"Save & Run All\" \n",
    "# You can also write temporary files to /kaggle/temp/, but they won't be saved outside of the current session"
   ]
  },
  {
   "cell_type": "code",
   "execution_count": 2,
   "id": "3482510e",
   "metadata": {
    "execution": {
     "iopub.execute_input": "2023-02-07T16:18:21.986590Z",
     "iopub.status.busy": "2023-02-07T16:18:21.985888Z",
     "iopub.status.idle": "2023-02-07T16:18:22.039935Z",
     "shell.execute_reply": "2023-02-07T16:18:22.038801Z"
    },
    "papermill": {
     "duration": 0.064693,
     "end_time": "2023-02-07T16:18:22.043003",
     "exception": false,
     "start_time": "2023-02-07T16:18:21.978310",
     "status": "completed"
    },
    "tags": []
   },
   "outputs": [],
   "source": [
    "df = pd.read_csv(\"/kaggle/input/credit-card-customer-churn-prediction/Churn_Modelling.csv\")"
   ]
  },
  {
   "cell_type": "code",
   "execution_count": 3,
   "id": "cfc6fa50",
   "metadata": {
    "execution": {
     "iopub.execute_input": "2023-02-07T16:18:22.062075Z",
     "iopub.status.busy": "2023-02-07T16:18:22.061544Z",
     "iopub.status.idle": "2023-02-07T16:18:22.101232Z",
     "shell.execute_reply": "2023-02-07T16:18:22.100034Z"
    },
    "papermill": {
     "duration": 0.050829,
     "end_time": "2023-02-07T16:18:22.103714",
     "exception": false,
     "start_time": "2023-02-07T16:18:22.052885",
     "status": "completed"
    },
    "tags": []
   },
   "outputs": [
    {
     "data": {
      "text/html": [
       "<div>\n",
       "<style scoped>\n",
       "    .dataframe tbody tr th:only-of-type {\n",
       "        vertical-align: middle;\n",
       "    }\n",
       "\n",
       "    .dataframe tbody tr th {\n",
       "        vertical-align: top;\n",
       "    }\n",
       "\n",
       "    .dataframe thead th {\n",
       "        text-align: right;\n",
       "    }\n",
       "</style>\n",
       "<table border=\"1\" class=\"dataframe\">\n",
       "  <thead>\n",
       "    <tr style=\"text-align: right;\">\n",
       "      <th></th>\n",
       "      <th>RowNumber</th>\n",
       "      <th>CustomerId</th>\n",
       "      <th>Surname</th>\n",
       "      <th>CreditScore</th>\n",
       "      <th>Geography</th>\n",
       "      <th>Gender</th>\n",
       "      <th>Age</th>\n",
       "      <th>Tenure</th>\n",
       "      <th>Balance</th>\n",
       "      <th>NumOfProducts</th>\n",
       "      <th>HasCrCard</th>\n",
       "      <th>IsActiveMember</th>\n",
       "      <th>EstimatedSalary</th>\n",
       "      <th>Exited</th>\n",
       "    </tr>\n",
       "  </thead>\n",
       "  <tbody>\n",
       "    <tr>\n",
       "      <th>0</th>\n",
       "      <td>1</td>\n",
       "      <td>15634602</td>\n",
       "      <td>Hargrave</td>\n",
       "      <td>619</td>\n",
       "      <td>France</td>\n",
       "      <td>Female</td>\n",
       "      <td>42</td>\n",
       "      <td>2</td>\n",
       "      <td>0.00</td>\n",
       "      <td>1</td>\n",
       "      <td>1</td>\n",
       "      <td>1</td>\n",
       "      <td>101348.88</td>\n",
       "      <td>1</td>\n",
       "    </tr>\n",
       "    <tr>\n",
       "      <th>1</th>\n",
       "      <td>2</td>\n",
       "      <td>15647311</td>\n",
       "      <td>Hill</td>\n",
       "      <td>608</td>\n",
       "      <td>Spain</td>\n",
       "      <td>Female</td>\n",
       "      <td>41</td>\n",
       "      <td>1</td>\n",
       "      <td>83807.86</td>\n",
       "      <td>1</td>\n",
       "      <td>0</td>\n",
       "      <td>1</td>\n",
       "      <td>112542.58</td>\n",
       "      <td>0</td>\n",
       "    </tr>\n",
       "    <tr>\n",
       "      <th>2</th>\n",
       "      <td>3</td>\n",
       "      <td>15619304</td>\n",
       "      <td>Onio</td>\n",
       "      <td>502</td>\n",
       "      <td>France</td>\n",
       "      <td>Female</td>\n",
       "      <td>42</td>\n",
       "      <td>8</td>\n",
       "      <td>159660.80</td>\n",
       "      <td>3</td>\n",
       "      <td>1</td>\n",
       "      <td>0</td>\n",
       "      <td>113931.57</td>\n",
       "      <td>1</td>\n",
       "    </tr>\n",
       "    <tr>\n",
       "      <th>3</th>\n",
       "      <td>4</td>\n",
       "      <td>15701354</td>\n",
       "      <td>Boni</td>\n",
       "      <td>699</td>\n",
       "      <td>France</td>\n",
       "      <td>Female</td>\n",
       "      <td>39</td>\n",
       "      <td>1</td>\n",
       "      <td>0.00</td>\n",
       "      <td>2</td>\n",
       "      <td>0</td>\n",
       "      <td>0</td>\n",
       "      <td>93826.63</td>\n",
       "      <td>0</td>\n",
       "    </tr>\n",
       "    <tr>\n",
       "      <th>4</th>\n",
       "      <td>5</td>\n",
       "      <td>15737888</td>\n",
       "      <td>Mitchell</td>\n",
       "      <td>850</td>\n",
       "      <td>Spain</td>\n",
       "      <td>Female</td>\n",
       "      <td>43</td>\n",
       "      <td>2</td>\n",
       "      <td>125510.82</td>\n",
       "      <td>1</td>\n",
       "      <td>1</td>\n",
       "      <td>1</td>\n",
       "      <td>79084.10</td>\n",
       "      <td>0</td>\n",
       "    </tr>\n",
       "    <tr>\n",
       "      <th>...</th>\n",
       "      <td>...</td>\n",
       "      <td>...</td>\n",
       "      <td>...</td>\n",
       "      <td>...</td>\n",
       "      <td>...</td>\n",
       "      <td>...</td>\n",
       "      <td>...</td>\n",
       "      <td>...</td>\n",
       "      <td>...</td>\n",
       "      <td>...</td>\n",
       "      <td>...</td>\n",
       "      <td>...</td>\n",
       "      <td>...</td>\n",
       "      <td>...</td>\n",
       "    </tr>\n",
       "    <tr>\n",
       "      <th>9995</th>\n",
       "      <td>9996</td>\n",
       "      <td>15606229</td>\n",
       "      <td>Obijiaku</td>\n",
       "      <td>771</td>\n",
       "      <td>France</td>\n",
       "      <td>Male</td>\n",
       "      <td>39</td>\n",
       "      <td>5</td>\n",
       "      <td>0.00</td>\n",
       "      <td>2</td>\n",
       "      <td>1</td>\n",
       "      <td>0</td>\n",
       "      <td>96270.64</td>\n",
       "      <td>0</td>\n",
       "    </tr>\n",
       "    <tr>\n",
       "      <th>9996</th>\n",
       "      <td>9997</td>\n",
       "      <td>15569892</td>\n",
       "      <td>Johnstone</td>\n",
       "      <td>516</td>\n",
       "      <td>France</td>\n",
       "      <td>Male</td>\n",
       "      <td>35</td>\n",
       "      <td>10</td>\n",
       "      <td>57369.61</td>\n",
       "      <td>1</td>\n",
       "      <td>1</td>\n",
       "      <td>1</td>\n",
       "      <td>101699.77</td>\n",
       "      <td>0</td>\n",
       "    </tr>\n",
       "    <tr>\n",
       "      <th>9997</th>\n",
       "      <td>9998</td>\n",
       "      <td>15584532</td>\n",
       "      <td>Liu</td>\n",
       "      <td>709</td>\n",
       "      <td>France</td>\n",
       "      <td>Female</td>\n",
       "      <td>36</td>\n",
       "      <td>7</td>\n",
       "      <td>0.00</td>\n",
       "      <td>1</td>\n",
       "      <td>0</td>\n",
       "      <td>1</td>\n",
       "      <td>42085.58</td>\n",
       "      <td>1</td>\n",
       "    </tr>\n",
       "    <tr>\n",
       "      <th>9998</th>\n",
       "      <td>9999</td>\n",
       "      <td>15682355</td>\n",
       "      <td>Sabbatini</td>\n",
       "      <td>772</td>\n",
       "      <td>Germany</td>\n",
       "      <td>Male</td>\n",
       "      <td>42</td>\n",
       "      <td>3</td>\n",
       "      <td>75075.31</td>\n",
       "      <td>2</td>\n",
       "      <td>1</td>\n",
       "      <td>0</td>\n",
       "      <td>92888.52</td>\n",
       "      <td>1</td>\n",
       "    </tr>\n",
       "    <tr>\n",
       "      <th>9999</th>\n",
       "      <td>10000</td>\n",
       "      <td>15628319</td>\n",
       "      <td>Walker</td>\n",
       "      <td>792</td>\n",
       "      <td>France</td>\n",
       "      <td>Female</td>\n",
       "      <td>28</td>\n",
       "      <td>4</td>\n",
       "      <td>130142.79</td>\n",
       "      <td>1</td>\n",
       "      <td>1</td>\n",
       "      <td>0</td>\n",
       "      <td>38190.78</td>\n",
       "      <td>0</td>\n",
       "    </tr>\n",
       "  </tbody>\n",
       "</table>\n",
       "<p>10000 rows × 14 columns</p>\n",
       "</div>"
      ],
      "text/plain": [
       "      RowNumber  CustomerId    Surname  CreditScore Geography  Gender  Age  \\\n",
       "0             1    15634602   Hargrave          619    France  Female   42   \n",
       "1             2    15647311       Hill          608     Spain  Female   41   \n",
       "2             3    15619304       Onio          502    France  Female   42   \n",
       "3             4    15701354       Boni          699    France  Female   39   \n",
       "4             5    15737888   Mitchell          850     Spain  Female   43   \n",
       "...         ...         ...        ...          ...       ...     ...  ...   \n",
       "9995       9996    15606229   Obijiaku          771    France    Male   39   \n",
       "9996       9997    15569892  Johnstone          516    France    Male   35   \n",
       "9997       9998    15584532        Liu          709    France  Female   36   \n",
       "9998       9999    15682355  Sabbatini          772   Germany    Male   42   \n",
       "9999      10000    15628319     Walker          792    France  Female   28   \n",
       "\n",
       "      Tenure    Balance  NumOfProducts  HasCrCard  IsActiveMember  \\\n",
       "0          2       0.00              1          1               1   \n",
       "1          1   83807.86              1          0               1   \n",
       "2          8  159660.80              3          1               0   \n",
       "3          1       0.00              2          0               0   \n",
       "4          2  125510.82              1          1               1   \n",
       "...      ...        ...            ...        ...             ...   \n",
       "9995       5       0.00              2          1               0   \n",
       "9996      10   57369.61              1          1               1   \n",
       "9997       7       0.00              1          0               1   \n",
       "9998       3   75075.31              2          1               0   \n",
       "9999       4  130142.79              1          1               0   \n",
       "\n",
       "      EstimatedSalary  Exited  \n",
       "0           101348.88       1  \n",
       "1           112542.58       0  \n",
       "2           113931.57       1  \n",
       "3            93826.63       0  \n",
       "4            79084.10       0  \n",
       "...               ...     ...  \n",
       "9995         96270.64       0  \n",
       "9996        101699.77       0  \n",
       "9997         42085.58       1  \n",
       "9998         92888.52       1  \n",
       "9999         38190.78       0  \n",
       "\n",
       "[10000 rows x 14 columns]"
      ]
     },
     "execution_count": 3,
     "metadata": {},
     "output_type": "execute_result"
    }
   ],
   "source": [
    "df"
   ]
  },
  {
   "cell_type": "code",
   "execution_count": 4,
   "id": "7536b051",
   "metadata": {
    "execution": {
     "iopub.execute_input": "2023-02-07T16:18:22.119369Z",
     "iopub.status.busy": "2023-02-07T16:18:22.118275Z",
     "iopub.status.idle": "2023-02-07T16:18:22.130641Z",
     "shell.execute_reply": "2023-02-07T16:18:22.129691Z"
    },
    "papermill": {
     "duration": 0.02289,
     "end_time": "2023-02-07T16:18:22.133218",
     "exception": false,
     "start_time": "2023-02-07T16:18:22.110328",
     "status": "completed"
    },
    "tags": []
   },
   "outputs": [],
   "source": [
    "df.drop([\"RowNumber\" , \"CustomerId\" , \"Surname\"] , axis = 1 , inplace = True)"
   ]
  },
  {
   "cell_type": "code",
   "execution_count": 5,
   "id": "162d41bc",
   "metadata": {
    "execution": {
     "iopub.execute_input": "2023-02-07T16:18:22.148707Z",
     "iopub.status.busy": "2023-02-07T16:18:22.147911Z",
     "iopub.status.idle": "2023-02-07T16:18:22.169103Z",
     "shell.execute_reply": "2023-02-07T16:18:22.167987Z"
    },
    "papermill": {
     "duration": 0.031676,
     "end_time": "2023-02-07T16:18:22.171537",
     "exception": false,
     "start_time": "2023-02-07T16:18:22.139861",
     "status": "completed"
    },
    "tags": []
   },
   "outputs": [
    {
     "data": {
      "text/html": [
       "<div>\n",
       "<style scoped>\n",
       "    .dataframe tbody tr th:only-of-type {\n",
       "        vertical-align: middle;\n",
       "    }\n",
       "\n",
       "    .dataframe tbody tr th {\n",
       "        vertical-align: top;\n",
       "    }\n",
       "\n",
       "    .dataframe thead th {\n",
       "        text-align: right;\n",
       "    }\n",
       "</style>\n",
       "<table border=\"1\" class=\"dataframe\">\n",
       "  <thead>\n",
       "    <tr style=\"text-align: right;\">\n",
       "      <th></th>\n",
       "      <th>CreditScore</th>\n",
       "      <th>Geography</th>\n",
       "      <th>Gender</th>\n",
       "      <th>Age</th>\n",
       "      <th>Tenure</th>\n",
       "      <th>Balance</th>\n",
       "      <th>NumOfProducts</th>\n",
       "      <th>HasCrCard</th>\n",
       "      <th>IsActiveMember</th>\n",
       "      <th>EstimatedSalary</th>\n",
       "      <th>Exited</th>\n",
       "    </tr>\n",
       "  </thead>\n",
       "  <tbody>\n",
       "    <tr>\n",
       "      <th>0</th>\n",
       "      <td>619</td>\n",
       "      <td>France</td>\n",
       "      <td>Female</td>\n",
       "      <td>42</td>\n",
       "      <td>2</td>\n",
       "      <td>0.00</td>\n",
       "      <td>1</td>\n",
       "      <td>1</td>\n",
       "      <td>1</td>\n",
       "      <td>101348.88</td>\n",
       "      <td>1</td>\n",
       "    </tr>\n",
       "    <tr>\n",
       "      <th>1</th>\n",
       "      <td>608</td>\n",
       "      <td>Spain</td>\n",
       "      <td>Female</td>\n",
       "      <td>41</td>\n",
       "      <td>1</td>\n",
       "      <td>83807.86</td>\n",
       "      <td>1</td>\n",
       "      <td>0</td>\n",
       "      <td>1</td>\n",
       "      <td>112542.58</td>\n",
       "      <td>0</td>\n",
       "    </tr>\n",
       "    <tr>\n",
       "      <th>2</th>\n",
       "      <td>502</td>\n",
       "      <td>France</td>\n",
       "      <td>Female</td>\n",
       "      <td>42</td>\n",
       "      <td>8</td>\n",
       "      <td>159660.80</td>\n",
       "      <td>3</td>\n",
       "      <td>1</td>\n",
       "      <td>0</td>\n",
       "      <td>113931.57</td>\n",
       "      <td>1</td>\n",
       "    </tr>\n",
       "    <tr>\n",
       "      <th>3</th>\n",
       "      <td>699</td>\n",
       "      <td>France</td>\n",
       "      <td>Female</td>\n",
       "      <td>39</td>\n",
       "      <td>1</td>\n",
       "      <td>0.00</td>\n",
       "      <td>2</td>\n",
       "      <td>0</td>\n",
       "      <td>0</td>\n",
       "      <td>93826.63</td>\n",
       "      <td>0</td>\n",
       "    </tr>\n",
       "    <tr>\n",
       "      <th>4</th>\n",
       "      <td>850</td>\n",
       "      <td>Spain</td>\n",
       "      <td>Female</td>\n",
       "      <td>43</td>\n",
       "      <td>2</td>\n",
       "      <td>125510.82</td>\n",
       "      <td>1</td>\n",
       "      <td>1</td>\n",
       "      <td>1</td>\n",
       "      <td>79084.10</td>\n",
       "      <td>0</td>\n",
       "    </tr>\n",
       "    <tr>\n",
       "      <th>...</th>\n",
       "      <td>...</td>\n",
       "      <td>...</td>\n",
       "      <td>...</td>\n",
       "      <td>...</td>\n",
       "      <td>...</td>\n",
       "      <td>...</td>\n",
       "      <td>...</td>\n",
       "      <td>...</td>\n",
       "      <td>...</td>\n",
       "      <td>...</td>\n",
       "      <td>...</td>\n",
       "    </tr>\n",
       "    <tr>\n",
       "      <th>9995</th>\n",
       "      <td>771</td>\n",
       "      <td>France</td>\n",
       "      <td>Male</td>\n",
       "      <td>39</td>\n",
       "      <td>5</td>\n",
       "      <td>0.00</td>\n",
       "      <td>2</td>\n",
       "      <td>1</td>\n",
       "      <td>0</td>\n",
       "      <td>96270.64</td>\n",
       "      <td>0</td>\n",
       "    </tr>\n",
       "    <tr>\n",
       "      <th>9996</th>\n",
       "      <td>516</td>\n",
       "      <td>France</td>\n",
       "      <td>Male</td>\n",
       "      <td>35</td>\n",
       "      <td>10</td>\n",
       "      <td>57369.61</td>\n",
       "      <td>1</td>\n",
       "      <td>1</td>\n",
       "      <td>1</td>\n",
       "      <td>101699.77</td>\n",
       "      <td>0</td>\n",
       "    </tr>\n",
       "    <tr>\n",
       "      <th>9997</th>\n",
       "      <td>709</td>\n",
       "      <td>France</td>\n",
       "      <td>Female</td>\n",
       "      <td>36</td>\n",
       "      <td>7</td>\n",
       "      <td>0.00</td>\n",
       "      <td>1</td>\n",
       "      <td>0</td>\n",
       "      <td>1</td>\n",
       "      <td>42085.58</td>\n",
       "      <td>1</td>\n",
       "    </tr>\n",
       "    <tr>\n",
       "      <th>9998</th>\n",
       "      <td>772</td>\n",
       "      <td>Germany</td>\n",
       "      <td>Male</td>\n",
       "      <td>42</td>\n",
       "      <td>3</td>\n",
       "      <td>75075.31</td>\n",
       "      <td>2</td>\n",
       "      <td>1</td>\n",
       "      <td>0</td>\n",
       "      <td>92888.52</td>\n",
       "      <td>1</td>\n",
       "    </tr>\n",
       "    <tr>\n",
       "      <th>9999</th>\n",
       "      <td>792</td>\n",
       "      <td>France</td>\n",
       "      <td>Female</td>\n",
       "      <td>28</td>\n",
       "      <td>4</td>\n",
       "      <td>130142.79</td>\n",
       "      <td>1</td>\n",
       "      <td>1</td>\n",
       "      <td>0</td>\n",
       "      <td>38190.78</td>\n",
       "      <td>0</td>\n",
       "    </tr>\n",
       "  </tbody>\n",
       "</table>\n",
       "<p>10000 rows × 11 columns</p>\n",
       "</div>"
      ],
      "text/plain": [
       "      CreditScore Geography  Gender  Age  Tenure    Balance  NumOfProducts  \\\n",
       "0             619    France  Female   42       2       0.00              1   \n",
       "1             608     Spain  Female   41       1   83807.86              1   \n",
       "2             502    France  Female   42       8  159660.80              3   \n",
       "3             699    France  Female   39       1       0.00              2   \n",
       "4             850     Spain  Female   43       2  125510.82              1   \n",
       "...           ...       ...     ...  ...     ...        ...            ...   \n",
       "9995          771    France    Male   39       5       0.00              2   \n",
       "9996          516    France    Male   35      10   57369.61              1   \n",
       "9997          709    France  Female   36       7       0.00              1   \n",
       "9998          772   Germany    Male   42       3   75075.31              2   \n",
       "9999          792    France  Female   28       4  130142.79              1   \n",
       "\n",
       "      HasCrCard  IsActiveMember  EstimatedSalary  Exited  \n",
       "0             1               1        101348.88       1  \n",
       "1             0               1        112542.58       0  \n",
       "2             1               0        113931.57       1  \n",
       "3             0               0         93826.63       0  \n",
       "4             1               1         79084.10       0  \n",
       "...         ...             ...              ...     ...  \n",
       "9995          1               0         96270.64       0  \n",
       "9996          1               1        101699.77       0  \n",
       "9997          0               1         42085.58       1  \n",
       "9998          1               0         92888.52       1  \n",
       "9999          1               0         38190.78       0  \n",
       "\n",
       "[10000 rows x 11 columns]"
      ]
     },
     "execution_count": 5,
     "metadata": {},
     "output_type": "execute_result"
    }
   ],
   "source": [
    "df"
   ]
  },
  {
   "cell_type": "code",
   "execution_count": 6,
   "id": "33a06f85",
   "metadata": {
    "execution": {
     "iopub.execute_input": "2023-02-07T16:18:22.187482Z",
     "iopub.status.busy": "2023-02-07T16:18:22.186775Z",
     "iopub.status.idle": "2023-02-07T16:18:22.207689Z",
     "shell.execute_reply": "2023-02-07T16:18:22.206641Z"
    },
    "papermill": {
     "duration": 0.032185,
     "end_time": "2023-02-07T16:18:22.210664",
     "exception": false,
     "start_time": "2023-02-07T16:18:22.178479",
     "status": "completed"
    },
    "tags": []
   },
   "outputs": [],
   "source": [
    "data =pd.get_dummies(df , columns = [\"Geography\" , \"Gender\"] , drop_first = True)"
   ]
  },
  {
   "cell_type": "code",
   "execution_count": 7,
   "id": "70eb7f5f",
   "metadata": {
    "execution": {
     "iopub.execute_input": "2023-02-07T16:18:22.226303Z",
     "iopub.status.busy": "2023-02-07T16:18:22.225888Z",
     "iopub.status.idle": "2023-02-07T16:18:22.235055Z",
     "shell.execute_reply": "2023-02-07T16:18:22.233869Z"
    },
    "papermill": {
     "duration": 0.02012,
     "end_time": "2023-02-07T16:18:22.237787",
     "exception": false,
     "start_time": "2023-02-07T16:18:22.217667",
     "status": "completed"
    },
    "tags": []
   },
   "outputs": [],
   "source": [
    "train , test = np.split(data.sample(frac = 1) , [int(0.8*len(df))])"
   ]
  },
  {
   "cell_type": "code",
   "execution_count": 8,
   "id": "2a3d50fd",
   "metadata": {
    "execution": {
     "iopub.execute_input": "2023-02-07T16:18:22.253454Z",
     "iopub.status.busy": "2023-02-07T16:18:22.253054Z",
     "iopub.status.idle": "2023-02-07T16:18:23.454570Z",
     "shell.execute_reply": "2023-02-07T16:18:23.453391Z"
    },
    "papermill": {
     "duration": 1.212669,
     "end_time": "2023-02-07T16:18:23.457451",
     "exception": false,
     "start_time": "2023-02-07T16:18:22.244782",
     "status": "completed"
    },
    "tags": []
   },
   "outputs": [],
   "source": [
    "from sklearn.preprocessing import StandardScaler"
   ]
  },
  {
   "cell_type": "code",
   "execution_count": 9,
   "id": "bc68c935",
   "metadata": {
    "execution": {
     "iopub.execute_input": "2023-02-07T16:18:23.473384Z",
     "iopub.status.busy": "2023-02-07T16:18:23.472935Z",
     "iopub.status.idle": "2023-02-07T16:18:23.479176Z",
     "shell.execute_reply": "2023-02-07T16:18:23.477967Z"
    },
    "papermill": {
     "duration": 0.016957,
     "end_time": "2023-02-07T16:18:23.481493",
     "exception": false,
     "start_time": "2023-02-07T16:18:23.464536",
     "status": "completed"
    },
    "tags": []
   },
   "outputs": [],
   "source": [
    "def pre(dataframe):\n",
    "    x = dataframe.drop(\"Exited\" , axis = 1)\n",
    "    y = dataframe[\"Exited\"]\n",
    "    \n",
    "    sc = StandardScaler()\n",
    "    \n",
    "    sc.fit_transform(x , y)\n",
    "    \n",
    "    return x , y"
   ]
  },
  {
   "cell_type": "code",
   "execution_count": 10,
   "id": "28a35e32",
   "metadata": {
    "execution": {
     "iopub.execute_input": "2023-02-07T16:18:23.498452Z",
     "iopub.status.busy": "2023-02-07T16:18:23.497312Z",
     "iopub.status.idle": "2023-02-07T16:18:23.515499Z",
     "shell.execute_reply": "2023-02-07T16:18:23.514510Z"
    },
    "papermill": {
     "duration": 0.029518,
     "end_time": "2023-02-07T16:18:23.518023",
     "exception": false,
     "start_time": "2023-02-07T16:18:23.488505",
     "status": "completed"
    },
    "tags": []
   },
   "outputs": [],
   "source": [
    "X_train , Y_train = pre(train)\n",
    "X_test , Y_test = pre(test)"
   ]
  },
  {
   "cell_type": "code",
   "execution_count": 11,
   "id": "279b99da",
   "metadata": {
    "execution": {
     "iopub.execute_input": "2023-02-07T16:18:23.534081Z",
     "iopub.status.busy": "2023-02-07T16:18:23.533207Z",
     "iopub.status.idle": "2023-02-07T16:18:23.554677Z",
     "shell.execute_reply": "2023-02-07T16:18:23.553355Z"
    },
    "papermill": {
     "duration": 0.032254,
     "end_time": "2023-02-07T16:18:23.557311",
     "exception": false,
     "start_time": "2023-02-07T16:18:23.525057",
     "status": "completed"
    },
    "tags": []
   },
   "outputs": [
    {
     "data": {
      "text/html": [
       "<div>\n",
       "<style scoped>\n",
       "    .dataframe tbody tr th:only-of-type {\n",
       "        vertical-align: middle;\n",
       "    }\n",
       "\n",
       "    .dataframe tbody tr th {\n",
       "        vertical-align: top;\n",
       "    }\n",
       "\n",
       "    .dataframe thead th {\n",
       "        text-align: right;\n",
       "    }\n",
       "</style>\n",
       "<table border=\"1\" class=\"dataframe\">\n",
       "  <thead>\n",
       "    <tr style=\"text-align: right;\">\n",
       "      <th></th>\n",
       "      <th>CreditScore</th>\n",
       "      <th>Age</th>\n",
       "      <th>Tenure</th>\n",
       "      <th>Balance</th>\n",
       "      <th>NumOfProducts</th>\n",
       "      <th>HasCrCard</th>\n",
       "      <th>IsActiveMember</th>\n",
       "      <th>EstimatedSalary</th>\n",
       "      <th>Geography_Germany</th>\n",
       "      <th>Geography_Spain</th>\n",
       "      <th>Gender_Male</th>\n",
       "    </tr>\n",
       "  </thead>\n",
       "  <tbody>\n",
       "    <tr>\n",
       "      <th>8120</th>\n",
       "      <td>523</td>\n",
       "      <td>45</td>\n",
       "      <td>5</td>\n",
       "      <td>0.00</td>\n",
       "      <td>2</td>\n",
       "      <td>1</td>\n",
       "      <td>1</td>\n",
       "      <td>121428.20</td>\n",
       "      <td>0</td>\n",
       "      <td>0</td>\n",
       "      <td>1</td>\n",
       "    </tr>\n",
       "    <tr>\n",
       "      <th>3687</th>\n",
       "      <td>668</td>\n",
       "      <td>32</td>\n",
       "      <td>2</td>\n",
       "      <td>0.00</td>\n",
       "      <td>2</td>\n",
       "      <td>1</td>\n",
       "      <td>1</td>\n",
       "      <td>40652.33</td>\n",
       "      <td>0</td>\n",
       "      <td>0</td>\n",
       "      <td>0</td>\n",
       "    </tr>\n",
       "    <tr>\n",
       "      <th>6739</th>\n",
       "      <td>509</td>\n",
       "      <td>55</td>\n",
       "      <td>8</td>\n",
       "      <td>132387.91</td>\n",
       "      <td>2</td>\n",
       "      <td>1</td>\n",
       "      <td>1</td>\n",
       "      <td>170360.11</td>\n",
       "      <td>0</td>\n",
       "      <td>0</td>\n",
       "      <td>1</td>\n",
       "    </tr>\n",
       "    <tr>\n",
       "      <th>2544</th>\n",
       "      <td>668</td>\n",
       "      <td>34</td>\n",
       "      <td>5</td>\n",
       "      <td>80242.37</td>\n",
       "      <td>2</td>\n",
       "      <td>0</td>\n",
       "      <td>0</td>\n",
       "      <td>56780.97</td>\n",
       "      <td>1</td>\n",
       "      <td>0</td>\n",
       "      <td>1</td>\n",
       "    </tr>\n",
       "    <tr>\n",
       "      <th>4142</th>\n",
       "      <td>637</td>\n",
       "      <td>63</td>\n",
       "      <td>5</td>\n",
       "      <td>0.00</td>\n",
       "      <td>1</td>\n",
       "      <td>1</td>\n",
       "      <td>0</td>\n",
       "      <td>28092.77</td>\n",
       "      <td>0</td>\n",
       "      <td>0</td>\n",
       "      <td>0</td>\n",
       "    </tr>\n",
       "    <tr>\n",
       "      <th>...</th>\n",
       "      <td>...</td>\n",
       "      <td>...</td>\n",
       "      <td>...</td>\n",
       "      <td>...</td>\n",
       "      <td>...</td>\n",
       "      <td>...</td>\n",
       "      <td>...</td>\n",
       "      <td>...</td>\n",
       "      <td>...</td>\n",
       "      <td>...</td>\n",
       "      <td>...</td>\n",
       "    </tr>\n",
       "    <tr>\n",
       "      <th>4756</th>\n",
       "      <td>785</td>\n",
       "      <td>39</td>\n",
       "      <td>1</td>\n",
       "      <td>130147.98</td>\n",
       "      <td>1</td>\n",
       "      <td>1</td>\n",
       "      <td>0</td>\n",
       "      <td>163798.41</td>\n",
       "      <td>0</td>\n",
       "      <td>0</td>\n",
       "      <td>0</td>\n",
       "    </tr>\n",
       "    <tr>\n",
       "      <th>4508</th>\n",
       "      <td>599</td>\n",
       "      <td>41</td>\n",
       "      <td>1</td>\n",
       "      <td>0.00</td>\n",
       "      <td>2</td>\n",
       "      <td>1</td>\n",
       "      <td>0</td>\n",
       "      <td>96069.82</td>\n",
       "      <td>0</td>\n",
       "      <td>0</td>\n",
       "      <td>0</td>\n",
       "    </tr>\n",
       "    <tr>\n",
       "      <th>2321</th>\n",
       "      <td>545</td>\n",
       "      <td>45</td>\n",
       "      <td>6</td>\n",
       "      <td>93796.42</td>\n",
       "      <td>2</td>\n",
       "      <td>1</td>\n",
       "      <td>1</td>\n",
       "      <td>162321.26</td>\n",
       "      <td>1</td>\n",
       "      <td>0</td>\n",
       "      <td>1</td>\n",
       "    </tr>\n",
       "    <tr>\n",
       "      <th>8958</th>\n",
       "      <td>573</td>\n",
       "      <td>52</td>\n",
       "      <td>8</td>\n",
       "      <td>0.00</td>\n",
       "      <td>2</td>\n",
       "      <td>0</td>\n",
       "      <td>1</td>\n",
       "      <td>178229.04</td>\n",
       "      <td>0</td>\n",
       "      <td>0</td>\n",
       "      <td>1</td>\n",
       "    </tr>\n",
       "    <tr>\n",
       "      <th>6731</th>\n",
       "      <td>503</td>\n",
       "      <td>32</td>\n",
       "      <td>4</td>\n",
       "      <td>0.00</td>\n",
       "      <td>2</td>\n",
       "      <td>1</td>\n",
       "      <td>1</td>\n",
       "      <td>153036.97</td>\n",
       "      <td>0</td>\n",
       "      <td>0</td>\n",
       "      <td>1</td>\n",
       "    </tr>\n",
       "  </tbody>\n",
       "</table>\n",
       "<p>8000 rows × 11 columns</p>\n",
       "</div>"
      ],
      "text/plain": [
       "      CreditScore  Age  Tenure    Balance  NumOfProducts  HasCrCard  \\\n",
       "8120          523   45       5       0.00              2          1   \n",
       "3687          668   32       2       0.00              2          1   \n",
       "6739          509   55       8  132387.91              2          1   \n",
       "2544          668   34       5   80242.37              2          0   \n",
       "4142          637   63       5       0.00              1          1   \n",
       "...           ...  ...     ...        ...            ...        ...   \n",
       "4756          785   39       1  130147.98              1          1   \n",
       "4508          599   41       1       0.00              2          1   \n",
       "2321          545   45       6   93796.42              2          1   \n",
       "8958          573   52       8       0.00              2          0   \n",
       "6731          503   32       4       0.00              2          1   \n",
       "\n",
       "      IsActiveMember  EstimatedSalary  Geography_Germany  Geography_Spain  \\\n",
       "8120               1        121428.20                  0                0   \n",
       "3687               1         40652.33                  0                0   \n",
       "6739               1        170360.11                  0                0   \n",
       "2544               0         56780.97                  1                0   \n",
       "4142               0         28092.77                  0                0   \n",
       "...              ...              ...                ...              ...   \n",
       "4756               0        163798.41                  0                0   \n",
       "4508               0         96069.82                  0                0   \n",
       "2321               1        162321.26                  1                0   \n",
       "8958               1        178229.04                  0                0   \n",
       "6731               1        153036.97                  0                0   \n",
       "\n",
       "      Gender_Male  \n",
       "8120            1  \n",
       "3687            0  \n",
       "6739            1  \n",
       "2544            1  \n",
       "4142            0  \n",
       "...           ...  \n",
       "4756            0  \n",
       "4508            0  \n",
       "2321            1  \n",
       "8958            1  \n",
       "6731            1  \n",
       "\n",
       "[8000 rows x 11 columns]"
      ]
     },
     "execution_count": 11,
     "metadata": {},
     "output_type": "execute_result"
    }
   ],
   "source": [
    "X_train"
   ]
  },
  {
   "cell_type": "code",
   "execution_count": 12,
   "id": "d52cec5e",
   "metadata": {
    "execution": {
     "iopub.execute_input": "2023-02-07T16:18:23.574004Z",
     "iopub.status.busy": "2023-02-07T16:18:23.573546Z",
     "iopub.status.idle": "2023-02-07T16:18:31.012671Z",
     "shell.execute_reply": "2023-02-07T16:18:31.011438Z"
    },
    "papermill": {
     "duration": 7.450656,
     "end_time": "2023-02-07T16:18:31.015455",
     "exception": false,
     "start_time": "2023-02-07T16:18:23.564799",
     "status": "completed"
    },
    "tags": []
   },
   "outputs": [],
   "source": [
    "import tensorflow\n",
    "from tensorflow import keras\n",
    "from tensorflow.keras import Sequential\n",
    "from tensorflow.keras.layers import Dense"
   ]
  },
  {
   "cell_type": "code",
   "execution_count": 13,
   "id": "72e8c991",
   "metadata": {
    "execution": {
     "iopub.execute_input": "2023-02-07T16:18:31.031890Z",
     "iopub.status.busy": "2023-02-07T16:18:31.031195Z",
     "iopub.status.idle": "2023-02-07T16:18:31.175065Z",
     "shell.execute_reply": "2023-02-07T16:18:31.174107Z"
    },
    "papermill": {
     "duration": 0.155223,
     "end_time": "2023-02-07T16:18:31.177914",
     "exception": false,
     "start_time": "2023-02-07T16:18:31.022691",
     "status": "completed"
    },
    "tags": []
   },
   "outputs": [
    {
     "name": "stderr",
     "output_type": "stream",
     "text": [
      "2023-02-07 16:18:31.075724: I tensorflow/core/common_runtime/process_util.cc:146] Creating new thread pool with default inter op setting: 2. Tune using inter_op_parallelism_threads for best performance.\n"
     ]
    }
   ],
   "source": [
    "model = Sequential()\n",
    "model.add(Dense(11 , activation = \"relu\" , input_dim = 11))\n",
    "model.add(Dense(11 , activation = \"relu\" , input_dim = 11))\n",
    "model.add(Dense(1 , activation = \"sigmoid\"))"
   ]
  },
  {
   "cell_type": "code",
   "execution_count": 14,
   "id": "3006ee61",
   "metadata": {
    "execution": {
     "iopub.execute_input": "2023-02-07T16:18:31.196894Z",
     "iopub.status.busy": "2023-02-07T16:18:31.195662Z",
     "iopub.status.idle": "2023-02-07T16:18:31.203175Z",
     "shell.execute_reply": "2023-02-07T16:18:31.201776Z"
    },
    "papermill": {
     "duration": 0.019893,
     "end_time": "2023-02-07T16:18:31.206073",
     "exception": false,
     "start_time": "2023-02-07T16:18:31.186180",
     "status": "completed"
    },
    "tags": []
   },
   "outputs": [
    {
     "name": "stdout",
     "output_type": "stream",
     "text": [
      "Model: \"sequential\"\n",
      "_________________________________________________________________\n",
      "Layer (type)                 Output Shape              Param #   \n",
      "=================================================================\n",
      "dense (Dense)                (None, 11)                132       \n",
      "_________________________________________________________________\n",
      "dense_1 (Dense)              (None, 11)                132       \n",
      "_________________________________________________________________\n",
      "dense_2 (Dense)              (None, 1)                 12        \n",
      "=================================================================\n",
      "Total params: 276\n",
      "Trainable params: 276\n",
      "Non-trainable params: 0\n",
      "_________________________________________________________________\n"
     ]
    }
   ],
   "source": [
    "model.summary()"
   ]
  },
  {
   "cell_type": "code",
   "execution_count": 15,
   "id": "8c176818",
   "metadata": {
    "execution": {
     "iopub.execute_input": "2023-02-07T16:18:31.224102Z",
     "iopub.status.busy": "2023-02-07T16:18:31.222956Z",
     "iopub.status.idle": "2023-02-07T16:18:31.238082Z",
     "shell.execute_reply": "2023-02-07T16:18:31.236900Z"
    },
    "papermill": {
     "duration": 0.026798,
     "end_time": "2023-02-07T16:18:31.240943",
     "exception": false,
     "start_time": "2023-02-07T16:18:31.214145",
     "status": "completed"
    },
    "tags": []
   },
   "outputs": [],
   "source": [
    "model.compile(loss = \"binary_crossentropy\" , optimizer = \"Adam\" , metrics = [\"accuracy\"])"
   ]
  },
  {
   "cell_type": "code",
   "execution_count": 16,
   "id": "d5228d8a",
   "metadata": {
    "execution": {
     "iopub.execute_input": "2023-02-07T16:18:31.257900Z",
     "iopub.status.busy": "2023-02-07T16:18:31.257423Z",
     "iopub.status.idle": "2023-02-07T16:19:53.911924Z",
     "shell.execute_reply": "2023-02-07T16:19:53.910529Z"
    },
    "papermill": {
     "duration": 82.666868,
     "end_time": "2023-02-07T16:19:53.915401",
     "exception": false,
     "start_time": "2023-02-07T16:18:31.248533",
     "status": "completed"
    },
    "tags": []
   },
   "outputs": [
    {
     "name": "stderr",
     "output_type": "stream",
     "text": [
      "2023-02-07 16:18:31.360931: I tensorflow/compiler/mlir/mlir_graph_optimization_pass.cc:185] None of the MLIR Optimization Passes are enabled (registered 2)\n"
     ]
    },
    {
     "name": "stdout",
     "output_type": "stream",
     "text": [
      "Epoch 1/100\n",
      "200/200 [==============================] - 1s 3ms/step - loss: 957.1284 - accuracy: 0.6761 - val_loss: 72.6057 - val_accuracy: 0.5606\n",
      "Epoch 2/100\n",
      "200/200 [==============================] - 0s 2ms/step - loss: 48.6003 - accuracy: 0.6702 - val_loss: 26.7021 - val_accuracy: 0.6319\n",
      "Epoch 3/100\n",
      "200/200 [==============================] - 0s 2ms/step - loss: 34.1804 - accuracy: 0.6773 - val_loss: 58.0723 - val_accuracy: 0.6875\n",
      "Epoch 4/100\n",
      "200/200 [==============================] - 0s 2ms/step - loss: 27.7873 - accuracy: 0.6781 - val_loss: 33.0275 - val_accuracy: 0.8000\n",
      "Epoch 5/100\n",
      "200/200 [==============================] - 0s 2ms/step - loss: 25.6282 - accuracy: 0.6662 - val_loss: 39.8735 - val_accuracy: 0.7931\n",
      "Epoch 6/100\n",
      "200/200 [==============================] - 0s 2ms/step - loss: 20.1869 - accuracy: 0.6748 - val_loss: 14.3127 - val_accuracy: 0.6963\n",
      "Epoch 7/100\n",
      "200/200 [==============================] - 0s 2ms/step - loss: 21.0264 - accuracy: 0.6702 - val_loss: 29.4985 - val_accuracy: 0.6294\n",
      "Epoch 8/100\n",
      "200/200 [==============================] - 0s 2ms/step - loss: 23.6574 - accuracy: 0.6819 - val_loss: 13.5654 - val_accuracy: 0.7969\n",
      "Epoch 9/100\n",
      "200/200 [==============================] - 0s 2ms/step - loss: 16.3389 - accuracy: 0.6897 - val_loss: 10.2271 - val_accuracy: 0.6969\n",
      "Epoch 10/100\n",
      "200/200 [==============================] - 0s 2ms/step - loss: 17.8779 - accuracy: 0.6841 - val_loss: 23.0308 - val_accuracy: 0.7625\n",
      "Epoch 11/100\n",
      "200/200 [==============================] - 0s 2ms/step - loss: 16.2954 - accuracy: 0.6781 - val_loss: 12.8474 - val_accuracy: 0.5506\n",
      "Epoch 12/100\n",
      "200/200 [==============================] - 0s 2ms/step - loss: 15.5959 - accuracy: 0.6739 - val_loss: 14.1922 - val_accuracy: 0.6456\n",
      "Epoch 13/100\n",
      "200/200 [==============================] - 0s 2ms/step - loss: 15.0730 - accuracy: 0.6839 - val_loss: 11.3085 - val_accuracy: 0.8006\n",
      "Epoch 14/100\n",
      "200/200 [==============================] - 0s 2ms/step - loss: 17.0609 - accuracy: 0.6822 - val_loss: 5.8069 - val_accuracy: 0.7937\n",
      "Epoch 15/100\n",
      "200/200 [==============================] - 1s 4ms/step - loss: 17.2361 - accuracy: 0.6809 - val_loss: 20.0532 - val_accuracy: 0.6338\n",
      "Epoch 16/100\n",
      "200/200 [==============================] - 0s 2ms/step - loss: 14.8726 - accuracy: 0.6786 - val_loss: 10.2878 - val_accuracy: 0.7088\n",
      "Epoch 17/100\n",
      "200/200 [==============================] - 0s 2ms/step - loss: 14.8588 - accuracy: 0.6825 - val_loss: 5.8212 - val_accuracy: 0.6494\n",
      "Epoch 18/100\n",
      "200/200 [==============================] - 0s 2ms/step - loss: 15.8169 - accuracy: 0.6797 - val_loss: 37.6946 - val_accuracy: 0.3381\n",
      "Epoch 19/100\n",
      "200/200 [==============================] - 0s 2ms/step - loss: 16.4745 - accuracy: 0.6803 - val_loss: 9.3379 - val_accuracy: 0.7881\n",
      "Epoch 20/100\n",
      "200/200 [==============================] - 0s 2ms/step - loss: 14.2278 - accuracy: 0.6731 - val_loss: 16.2645 - val_accuracy: 0.5531\n",
      "Epoch 21/100\n",
      "200/200 [==============================] - 0s 2ms/step - loss: 20.3618 - accuracy: 0.6761 - val_loss: 11.5989 - val_accuracy: 0.7887\n",
      "Epoch 22/100\n",
      "200/200 [==============================] - 0s 2ms/step - loss: 18.3266 - accuracy: 0.6822 - val_loss: 6.7275 - val_accuracy: 0.7956\n",
      "Epoch 23/100\n",
      "200/200 [==============================] - 0s 2ms/step - loss: 13.6876 - accuracy: 0.6781 - val_loss: 12.8011 - val_accuracy: 0.6350\n",
      "Epoch 24/100\n",
      "200/200 [==============================] - 0s 2ms/step - loss: 17.4995 - accuracy: 0.6773 - val_loss: 8.3592 - val_accuracy: 0.3963\n",
      "Epoch 25/100\n",
      "200/200 [==============================] - 0s 2ms/step - loss: 15.4566 - accuracy: 0.6755 - val_loss: 11.0107 - val_accuracy: 0.6281\n",
      "Epoch 26/100\n",
      "200/200 [==============================] - 0s 2ms/step - loss: 14.2206 - accuracy: 0.6770 - val_loss: 5.7702 - val_accuracy: 0.7544\n",
      "Epoch 27/100\n",
      "200/200 [==============================] - 0s 2ms/step - loss: 11.6995 - accuracy: 0.6787 - val_loss: 8.6473 - val_accuracy: 0.5881\n",
      "Epoch 28/100\n",
      "200/200 [==============================] - 0s 2ms/step - loss: 13.0825 - accuracy: 0.6839 - val_loss: 10.1879 - val_accuracy: 0.7700\n",
      "Epoch 29/100\n",
      "200/200 [==============================] - 0s 2ms/step - loss: 14.6271 - accuracy: 0.6759 - val_loss: 29.8056 - val_accuracy: 0.8000\n",
      "Epoch 30/100\n",
      "200/200 [==============================] - 0s 2ms/step - loss: 18.1079 - accuracy: 0.6872 - val_loss: 7.6781 - val_accuracy: 0.6681\n",
      "Epoch 31/100\n",
      "200/200 [==============================] - 0s 2ms/step - loss: 12.9519 - accuracy: 0.6867 - val_loss: 6.1377 - val_accuracy: 0.7806\n",
      "Epoch 32/100\n",
      "200/200 [==============================] - 0s 2ms/step - loss: 12.3985 - accuracy: 0.6792 - val_loss: 10.2752 - val_accuracy: 0.8000\n",
      "Epoch 33/100\n",
      "200/200 [==============================] - 0s 2ms/step - loss: 15.4195 - accuracy: 0.6716 - val_loss: 18.2201 - val_accuracy: 0.7969\n",
      "Epoch 34/100\n",
      "200/200 [==============================] - 0s 2ms/step - loss: 13.8276 - accuracy: 0.6878 - val_loss: 7.2657 - val_accuracy: 0.8012\n",
      "Epoch 35/100\n",
      "200/200 [==============================] - 0s 2ms/step - loss: 14.0219 - accuracy: 0.6816 - val_loss: 5.3704 - val_accuracy: 0.7763\n",
      "Epoch 36/100\n",
      "200/200 [==============================] - 0s 2ms/step - loss: 14.1581 - accuracy: 0.6808 - val_loss: 36.8872 - val_accuracy: 0.8000\n",
      "Epoch 37/100\n",
      "200/200 [==============================] - 0s 2ms/step - loss: 11.8456 - accuracy: 0.6775 - val_loss: 6.5189 - val_accuracy: 0.3644\n",
      "Epoch 38/100\n",
      "200/200 [==============================] - 0s 2ms/step - loss: 14.7760 - accuracy: 0.6736 - val_loss: 21.3725 - val_accuracy: 0.7700\n",
      "Epoch 39/100\n",
      "200/200 [==============================] - 0s 2ms/step - loss: 13.9754 - accuracy: 0.6884 - val_loss: 9.1936 - val_accuracy: 0.7906\n",
      "Epoch 40/100\n",
      "200/200 [==============================] - 0s 2ms/step - loss: 13.2407 - accuracy: 0.6858 - val_loss: 13.8425 - val_accuracy: 0.8000\n",
      "Epoch 41/100\n",
      "200/200 [==============================] - 0s 2ms/step - loss: 15.6260 - accuracy: 0.6787 - val_loss: 6.8822 - val_accuracy: 0.6025\n",
      "Epoch 42/100\n",
      "200/200 [==============================] - 0s 2ms/step - loss: 10.5131 - accuracy: 0.6877 - val_loss: 11.1305 - val_accuracy: 0.7063\n",
      "Epoch 43/100\n",
      "200/200 [==============================] - 0s 2ms/step - loss: 13.9347 - accuracy: 0.6792 - val_loss: 4.9043 - val_accuracy: 0.7906\n",
      "Epoch 44/100\n",
      "200/200 [==============================] - 0s 2ms/step - loss: 10.8606 - accuracy: 0.6866 - val_loss: 5.6103 - val_accuracy: 0.7194\n",
      "Epoch 45/100\n",
      "200/200 [==============================] - 0s 2ms/step - loss: 12.5257 - accuracy: 0.6870 - val_loss: 7.8491 - val_accuracy: 0.6075\n",
      "Epoch 46/100\n",
      "200/200 [==============================] - 0s 2ms/step - loss: 12.3265 - accuracy: 0.6856 - val_loss: 7.9172 - val_accuracy: 0.5100\n",
      "Epoch 47/100\n",
      "200/200 [==============================] - 0s 2ms/step - loss: 10.5698 - accuracy: 0.6895 - val_loss: 3.2244 - val_accuracy: 0.7656\n",
      "Epoch 48/100\n",
      "200/200 [==============================] - 0s 2ms/step - loss: 11.4925 - accuracy: 0.6834 - val_loss: 21.1265 - val_accuracy: 0.6369\n",
      "Epoch 49/100\n",
      "200/200 [==============================] - 0s 2ms/step - loss: 10.5444 - accuracy: 0.6836 - val_loss: 8.5690 - val_accuracy: 0.6306\n",
      "Epoch 50/100\n",
      "200/200 [==============================] - 0s 2ms/step - loss: 13.2173 - accuracy: 0.6898 - val_loss: 6.8523 - val_accuracy: 0.8000\n",
      "Epoch 51/100\n",
      "200/200 [==============================] - 0s 2ms/step - loss: 9.3527 - accuracy: 0.6797 - val_loss: 5.8978 - val_accuracy: 0.8000\n",
      "Epoch 52/100\n",
      "200/200 [==============================] - 0s 2ms/step - loss: 10.0670 - accuracy: 0.6833 - val_loss: 9.4964 - val_accuracy: 0.8000\n",
      "Epoch 53/100\n",
      "200/200 [==============================] - 0s 2ms/step - loss: 10.4404 - accuracy: 0.6870 - val_loss: 6.5948 - val_accuracy: 0.7969\n",
      "Epoch 54/100\n",
      "200/200 [==============================] - 0s 2ms/step - loss: 9.8089 - accuracy: 0.6895 - val_loss: 7.0114 - val_accuracy: 0.4419\n",
      "Epoch 55/100\n",
      "200/200 [==============================] - 0s 2ms/step - loss: 10.7457 - accuracy: 0.6862 - val_loss: 12.5098 - val_accuracy: 0.6225\n",
      "Epoch 56/100\n",
      "200/200 [==============================] - 0s 2ms/step - loss: 10.3733 - accuracy: 0.6827 - val_loss: 19.8054 - val_accuracy: 0.2206\n",
      "Epoch 57/100\n",
      "200/200 [==============================] - 0s 2ms/step - loss: 11.8286 - accuracy: 0.6955 - val_loss: 20.9184 - val_accuracy: 0.3694\n",
      "Epoch 58/100\n",
      "200/200 [==============================] - 0s 2ms/step - loss: 10.6738 - accuracy: 0.6825 - val_loss: 5.7105 - val_accuracy: 0.6544\n",
      "Epoch 59/100\n",
      "200/200 [==============================] - 0s 2ms/step - loss: 11.3356 - accuracy: 0.6908 - val_loss: 8.6871 - val_accuracy: 0.8000\n",
      "Epoch 60/100\n",
      "200/200 [==============================] - 0s 2ms/step - loss: 7.1558 - accuracy: 0.6889 - val_loss: 5.1594 - val_accuracy: 0.5444\n",
      "Epoch 61/100\n",
      "200/200 [==============================] - 0s 2ms/step - loss: 11.9448 - accuracy: 0.6903 - val_loss: 9.4204 - val_accuracy: 0.8000\n",
      "Epoch 62/100\n",
      "200/200 [==============================] - 0s 2ms/step - loss: 10.8825 - accuracy: 0.6852 - val_loss: 12.4673 - val_accuracy: 0.8000\n",
      "Epoch 63/100\n",
      "200/200 [==============================] - 0s 2ms/step - loss: 12.8476 - accuracy: 0.6913 - val_loss: 8.9800 - val_accuracy: 0.7344\n",
      "Epoch 64/100\n",
      "200/200 [==============================] - 0s 2ms/step - loss: 6.6873 - accuracy: 0.6939 - val_loss: 9.8208 - val_accuracy: 0.3469\n",
      "Epoch 65/100\n",
      "200/200 [==============================] - 0s 2ms/step - loss: 10.5017 - accuracy: 0.6903 - val_loss: 4.5219 - val_accuracy: 0.7606\n",
      "Epoch 66/100\n",
      "200/200 [==============================] - 0s 2ms/step - loss: 11.5094 - accuracy: 0.6844 - val_loss: 4.7702 - val_accuracy: 0.7406\n",
      "Epoch 67/100\n",
      "200/200 [==============================] - 0s 2ms/step - loss: 9.0291 - accuracy: 0.6845 - val_loss: 3.3240 - val_accuracy: 0.6837\n",
      "Epoch 68/100\n",
      "200/200 [==============================] - 0s 2ms/step - loss: 8.9134 - accuracy: 0.6909 - val_loss: 18.0694 - val_accuracy: 0.8000\n",
      "Epoch 69/100\n",
      "200/200 [==============================] - 0s 2ms/step - loss: 11.3634 - accuracy: 0.6816 - val_loss: 21.1674 - val_accuracy: 0.5813\n",
      "Epoch 70/100\n",
      "200/200 [==============================] - 0s 2ms/step - loss: 7.6025 - accuracy: 0.6955 - val_loss: 6.6896 - val_accuracy: 0.6544\n",
      "Epoch 71/100\n",
      "200/200 [==============================] - 0s 2ms/step - loss: 7.9739 - accuracy: 0.6936 - val_loss: 7.1064 - val_accuracy: 0.5362\n",
      "Epoch 72/100\n",
      "200/200 [==============================] - 0s 2ms/step - loss: 10.0705 - accuracy: 0.6911 - val_loss: 4.2694 - val_accuracy: 0.8012\n",
      "Epoch 73/100\n",
      "200/200 [==============================] - 0s 2ms/step - loss: 7.9246 - accuracy: 0.6922 - val_loss: 12.8748 - val_accuracy: 0.5669\n",
      "Epoch 74/100\n",
      "200/200 [==============================] - 0s 2ms/step - loss: 8.1072 - accuracy: 0.6908 - val_loss: 9.0564 - val_accuracy: 0.4412\n",
      "Epoch 75/100\n",
      "200/200 [==============================] - 0s 2ms/step - loss: 6.6213 - accuracy: 0.6917 - val_loss: 4.2105 - val_accuracy: 0.7106\n",
      "Epoch 76/100\n",
      "200/200 [==============================] - 0s 2ms/step - loss: 7.8208 - accuracy: 0.6955 - val_loss: 3.0973 - val_accuracy: 0.7581\n",
      "Epoch 77/100\n",
      "200/200 [==============================] - 0s 2ms/step - loss: 7.4153 - accuracy: 0.6837 - val_loss: 4.0318 - val_accuracy: 0.7775\n",
      "Epoch 78/100\n",
      "200/200 [==============================] - 0s 2ms/step - loss: 6.6349 - accuracy: 0.6964 - val_loss: 5.0837 - val_accuracy: 0.7462\n",
      "Epoch 79/100\n",
      "200/200 [==============================] - 0s 2ms/step - loss: 9.6269 - accuracy: 0.6977 - val_loss: 10.1874 - val_accuracy: 0.7862\n",
      "Epoch 80/100\n",
      "200/200 [==============================] - 0s 2ms/step - loss: 7.5703 - accuracy: 0.6969 - val_loss: 4.3250 - val_accuracy: 0.6037\n",
      "Epoch 81/100\n",
      "200/200 [==============================] - 0s 2ms/step - loss: 6.9048 - accuracy: 0.6928 - val_loss: 7.6871 - val_accuracy: 0.6862\n",
      "Epoch 82/100\n",
      "200/200 [==============================] - 0s 2ms/step - loss: 7.1796 - accuracy: 0.6856 - val_loss: 9.7558 - val_accuracy: 0.5875\n",
      "Epoch 83/100\n",
      "200/200 [==============================] - 0s 2ms/step - loss: 5.6619 - accuracy: 0.6948 - val_loss: 4.9016 - val_accuracy: 0.7469\n",
      "Epoch 84/100\n",
      "200/200 [==============================] - 0s 2ms/step - loss: 6.1928 - accuracy: 0.6923 - val_loss: 5.2217 - val_accuracy: 0.4913\n",
      "Epoch 85/100\n",
      "200/200 [==============================] - 0s 2ms/step - loss: 8.3751 - accuracy: 0.6883 - val_loss: 6.2729 - val_accuracy: 0.5894\n",
      "Epoch 86/100\n",
      "200/200 [==============================] - 0s 2ms/step - loss: 7.1359 - accuracy: 0.6873 - val_loss: 6.4546 - val_accuracy: 0.8006\n",
      "Epoch 87/100\n",
      "200/200 [==============================] - 0s 2ms/step - loss: 6.6041 - accuracy: 0.6931 - val_loss: 9.7069 - val_accuracy: 0.8000\n",
      "Epoch 88/100\n",
      "200/200 [==============================] - 0s 2ms/step - loss: 6.6066 - accuracy: 0.7009 - val_loss: 3.4894 - val_accuracy: 0.7556\n",
      "Epoch 89/100\n",
      "200/200 [==============================] - 0s 2ms/step - loss: 6.1125 - accuracy: 0.6947 - val_loss: 10.0687 - val_accuracy: 0.7450\n",
      "Epoch 90/100\n",
      "200/200 [==============================] - 1s 4ms/step - loss: 6.2695 - accuracy: 0.7028 - val_loss: 5.1075 - val_accuracy: 0.7944\n",
      "Epoch 91/100\n",
      "200/200 [==============================] - 1s 3ms/step - loss: 7.3311 - accuracy: 0.6897 - val_loss: 3.1892 - val_accuracy: 0.7975\n",
      "Epoch 92/100\n",
      "200/200 [==============================] - 0s 2ms/step - loss: 5.2817 - accuracy: 0.7063 - val_loss: 5.9530 - val_accuracy: 0.5400\n",
      "Epoch 93/100\n",
      "200/200 [==============================] - 0s 2ms/step - loss: 5.7219 - accuracy: 0.7042 - val_loss: 4.4612 - val_accuracy: 0.7619\n",
      "Epoch 94/100\n",
      "200/200 [==============================] - 0s 2ms/step - loss: 6.0058 - accuracy: 0.6973 - val_loss: 6.2620 - val_accuracy: 0.5775\n",
      "Epoch 95/100\n",
      "200/200 [==============================] - 0s 2ms/step - loss: 6.7951 - accuracy: 0.6959 - val_loss: 8.4721 - val_accuracy: 0.8000\n",
      "Epoch 96/100\n",
      "200/200 [==============================] - 0s 2ms/step - loss: 6.7089 - accuracy: 0.6959 - val_loss: 5.6393 - val_accuracy: 0.5850\n",
      "Epoch 97/100\n",
      "200/200 [==============================] - 0s 2ms/step - loss: 5.5725 - accuracy: 0.7044 - val_loss: 8.8971 - val_accuracy: 0.5669\n",
      "Epoch 98/100\n",
      "200/200 [==============================] - 0s 2ms/step - loss: 7.7786 - accuracy: 0.6903 - val_loss: 7.1303 - val_accuracy: 0.7513\n",
      "Epoch 99/100\n",
      "200/200 [==============================] - 0s 2ms/step - loss: 5.9876 - accuracy: 0.6950 - val_loss: 6.1870 - val_accuracy: 0.5537\n",
      "Epoch 100/100\n",
      "200/200 [==============================] - 0s 2ms/step - loss: 5.7473 - accuracy: 0.7056 - val_loss: 13.3393 - val_accuracy: 0.8000\n"
     ]
    }
   ],
   "source": [
    "hitstory = model.fit(X_train , Y_train , epochs = 100 , validation_split = 0.2)"
   ]
  },
  {
   "cell_type": "code",
   "execution_count": 17,
   "id": "253b95a1",
   "metadata": {
    "execution": {
     "iopub.execute_input": "2023-02-07T16:19:54.034567Z",
     "iopub.status.busy": "2023-02-07T16:19:54.033722Z",
     "iopub.status.idle": "2023-02-07T16:19:54.238412Z",
     "shell.execute_reply": "2023-02-07T16:19:54.237095Z"
    },
    "papermill": {
     "duration": 0.26745,
     "end_time": "2023-02-07T16:19:54.241231",
     "exception": false,
     "start_time": "2023-02-07T16:19:53.973781",
     "status": "completed"
    },
    "tags": []
   },
   "outputs": [],
   "source": [
    "y_log = model.predict(X_test)"
   ]
  },
  {
   "cell_type": "code",
   "execution_count": 18,
   "id": "28c92cd0",
   "metadata": {
    "execution": {
     "iopub.execute_input": "2023-02-07T16:19:54.359643Z",
     "iopub.status.busy": "2023-02-07T16:19:54.358317Z",
     "iopub.status.idle": "2023-02-07T16:19:54.364294Z",
     "shell.execute_reply": "2023-02-07T16:19:54.363332Z"
    },
    "papermill": {
     "duration": 0.0677,
     "end_time": "2023-02-07T16:19:54.366676",
     "exception": false,
     "start_time": "2023-02-07T16:19:54.298976",
     "status": "completed"
    },
    "tags": []
   },
   "outputs": [],
   "source": [
    "y_pred = np.where(y_log > 0.5 , 1 , 0)"
   ]
  },
  {
   "cell_type": "code",
   "execution_count": 19,
   "id": "cd780d42",
   "metadata": {
    "execution": {
     "iopub.execute_input": "2023-02-07T16:19:54.484152Z",
     "iopub.status.busy": "2023-02-07T16:19:54.483228Z",
     "iopub.status.idle": "2023-02-07T16:19:54.536863Z",
     "shell.execute_reply": "2023-02-07T16:19:54.535814Z"
    },
    "papermill": {
     "duration": 0.115583,
     "end_time": "2023-02-07T16:19:54.539371",
     "exception": false,
     "start_time": "2023-02-07T16:19:54.423788",
     "status": "completed"
    },
    "tags": []
   },
   "outputs": [],
   "source": [
    "from sklearn.metrics import accuracy_score"
   ]
  },
  {
   "cell_type": "code",
   "execution_count": 20,
   "id": "504bbb6c",
   "metadata": {
    "execution": {
     "iopub.execute_input": "2023-02-07T16:19:54.657333Z",
     "iopub.status.busy": "2023-02-07T16:19:54.656492Z",
     "iopub.status.idle": "2023-02-07T16:19:54.664349Z",
     "shell.execute_reply": "2023-02-07T16:19:54.663081Z"
    },
    "papermill": {
     "duration": 0.070216,
     "end_time": "2023-02-07T16:19:54.667099",
     "exception": false,
     "start_time": "2023-02-07T16:19:54.596883",
     "status": "completed"
    },
    "tags": []
   },
   "outputs": [
    {
     "name": "stdout",
     "output_type": "stream",
     "text": [
      "0.7975\n"
     ]
    }
   ],
   "source": [
    "print(accuracy_score(Y_test , y_pred))"
   ]
  },
  {
   "cell_type": "code",
   "execution_count": 21,
   "id": "101125b0",
   "metadata": {
    "execution": {
     "iopub.execute_input": "2023-02-07T16:19:54.784204Z",
     "iopub.status.busy": "2023-02-07T16:19:54.783809Z",
     "iopub.status.idle": "2023-02-07T16:19:54.788893Z",
     "shell.execute_reply": "2023-02-07T16:19:54.787619Z"
    },
    "papermill": {
     "duration": 0.06648,
     "end_time": "2023-02-07T16:19:54.791176",
     "exception": false,
     "start_time": "2023-02-07T16:19:54.724696",
     "status": "completed"
    },
    "tags": []
   },
   "outputs": [],
   "source": [
    "import matplotlib.pyplot as plt"
   ]
  },
  {
   "cell_type": "code",
   "execution_count": 22,
   "id": "fee92857",
   "metadata": {
    "execution": {
     "iopub.execute_input": "2023-02-07T16:19:54.908911Z",
     "iopub.status.busy": "2023-02-07T16:19:54.908490Z",
     "iopub.status.idle": "2023-02-07T16:19:55.098524Z",
     "shell.execute_reply": "2023-02-07T16:19:55.097419Z"
    },
    "papermill": {
     "duration": 0.252139,
     "end_time": "2023-02-07T16:19:55.101151",
     "exception": false,
     "start_time": "2023-02-07T16:19:54.849012",
     "status": "completed"
    },
    "tags": []
   },
   "outputs": [
    {
     "data": {
      "text/plain": [
       "<matplotlib.legend.Legend at 0x7f7ff444f250>"
      ]
     },
     "execution_count": 22,
     "metadata": {},
     "output_type": "execute_result"
    },
    {
     "data": {
      "image/png": "[encoded data removed]",
      "text/plain": [
       "<Figure size 432x288 with 1 Axes>"
      ]
     },
     "metadata": {
      "needs_background": "light"
     },
     "output_type": "display_data"
    }
   ],
   "source": [
    "plt.plot(hitstory.history[\"loss\"])\n",
    "plt.plot(hitstory.history[\"val_loss\"])\n",
    "plt.legend()"
   ]
  },
  {
   "cell_type": "code",
   "execution_count": 23,
   "id": "7ef533bb",
   "metadata": {
    "execution": {
     "iopub.execute_input": "2023-02-07T16:19:55.219861Z",
     "iopub.status.busy": "2023-02-07T16:19:55.219384Z",
     "iopub.status.idle": "2023-02-07T16:19:55.434414Z",
     "shell.execute_reply": "2023-02-07T16:19:55.433573Z"
    },
    "papermill": {
     "duration": 0.276696,
     "end_time": "2023-02-07T16:19:55.436638",
     "exception": false,
     "start_time": "2023-02-07T16:19:55.159942",
     "status": "completed"
    },
    "tags": []
   },
   "outputs": [
    {
     "data": {
      "text/plain": [
       "<matplotlib.legend.Legend at 0x7f7ff6d4b810>"
      ]
     },
     "execution_count": 23,
     "metadata": {},
     "output_type": "execute_result"
    },
    {
     "data": {
      "image/png": "[encoded data removed]",
      "text/plain": [
       "<Figure size 432x288 with 1 Axes>"
      ]
     },
     "metadata": {
      "needs_background": "light"
     },
     "output_type": "display_data"
    }
   ],
   "source": [
    "plt.plot(hitstory.history[\"accuracy\"])\n",
    "plt.plot(hitstory.history[\"val_accuracy\"])\n",
    "plt.legend()"
   ]
  },
  {
   "cell_type": "code",
   "execution_count": null,
   "id": "13fc3962",
   "metadata": {
    "papermill": {
     "duration": 0.058273,
     "end_time": "2023-02-07T16:19:55.553513",
     "exception": false,
     "start_time": "2023-02-07T16:19:55.495240",
     "status": "completed"
    },
    "tags": []
   },
   "outputs": [],
   "source": []
  }
 ],
 "metadata": {
  "kernelspec": {
   "display_name": "Python 3",
   "language": "python",
   "name": "python3"
  },
  "language_info": {
   "codemirror_mode": {
    "name": "ipython",
    "version": 3
   },
   "file_extension": ".py",
   "mimetype": "text/x-python",
   "name": "python",
   "nbconvert_exporter": "python",
   "pygments_lexer": "ipython3",
   "version": "3.7.12"
  },
  "papermill": {
   "default_parameters": {},
   "duration": 106.235277,
   "end_time": "2023-02-07T16:19:59.219339",
   "environment_variables": {},
   "exception": null,
   "input_path": "__notebook__.ipynb",
   "output_path": "__notebook__.ipynb",
   "parameters": {},
   "start_time": "2023-02-07T16:18:12.984062",
   "version": "2.3.4"
  }
 },
 "nbformat": 4,
 "nbformat_minor": 5
}
